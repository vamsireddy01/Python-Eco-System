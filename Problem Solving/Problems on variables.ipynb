{
 "cells": [
  {
   "cell_type": "markdown",
   "metadata": {},
   "source": [
    "# different Level of problem solving"
   ]
  },
  {
   "cell_type": "code",
   "execution_count": 1,
   "metadata": {},
   "outputs": [
    {
     "name": "stdout",
     "output_type": "stream",
     "text": [
      "10\n"
     ]
    }
   ],
   "source": [
    "# Variable Assignment\n",
    "\n",
    "'''Problem: Assign the value 10 to a variable named `x` and print it.\n",
    "'''\n",
    "x = 10\n",
    "print(x)"
   ]
  },
  {
   "cell_type": "code",
   "execution_count": 2,
   "metadata": {},
   "outputs": [
    {
     "name": "stdout",
     "output_type": "stream",
     "text": [
      "Full Name:  Mohith Reddy\n"
     ]
    }
   ],
   "source": [
    "# String Concatenation\n",
    "\n",
    "'''Problem: Create two string variables `first_name` and `last_name` with your first and last name.\n",
    "                Concatenate them with a space in between and print the full name.\n",
    "'''\n",
    "\n",
    "first_name = 'Mohith'\n",
    "last_name = 'Reddy'\n",
    "\n",
    "full_name = first_name + ' ' + last_name\n",
    "print(\"Full Name: \", full_name)\n"
   ]
  },
  {
   "cell_type": "code",
   "execution_count": 5,
   "metadata": {},
   "outputs": [
    {
     "name": "stdout",
     "output_type": "stream",
     "text": [
      "a:  10 \n",
      "b:  5\n"
     ]
    }
   ],
   "source": [
    "# Swapping Variables\n",
    "\n",
    "'''Problem: Given two variables `a = 5` and `b = 10`, swap their values and print them.\n",
    "'''\n",
    "a = 5\n",
    "b = 10\n",
    "\n",
    "a , b = b, a # python way of swapig values\n",
    "\n",
    "print('a: ', a, '\\nb: ', b)"
   ]
  },
  {
   "cell_type": "code",
   "execution_count": 6,
   "metadata": {},
   "outputs": [
    {
     "name": "stdout",
     "output_type": "stream",
     "text": [
      "Sum:  19\n",
      "difference:  11\n",
      "product:  60\n",
      "quotient:  3.75\n"
     ]
    }
   ],
   "source": [
    "# Basic Arithmetic Operations\n",
    "\n",
    "'''\n",
    "Problem: Create variables `num1` and `num2` with values 15 and 4 respectively.\n",
    "         Calculate and print their sum, difference, product, and quotient.\n",
    "'''\n",
    "\n",
    "num1 = 15\n",
    "num2 = 4\n",
    "\n",
    "print('Sum: ', num1 + num2)\n",
    "print('difference: ', num1 - num2)\n",
    "print('product: ', num1 * num2)\n",
    "print('quotient: ', num1 / num2)"
   ]
  },
  {
   "cell_type": "code",
   "execution_count": 7,
   "metadata": {},
   "outputs": [
    {
     "name": "stdout",
     "output_type": "stream",
     "text": [
      "Count:  3\n"
     ]
    }
   ],
   "source": [
    "# Updating Variable Values\n",
    "\n",
    "'''\n",
    "Problem: Create a variable `count` with an initial value of 0.\n",
    "            Increment the variable by 1 three times and print the final value.\n",
    "'''\n",
    "count = 0\n",
    "\n",
    "count = count + 1 # traditional way to increment\n",
    "count += 1 # alternative to increment\n",
    "count += 1 \n",
    "\n",
    "print(\"Count: \", count)"
   ]
  },
  {
   "cell_type": "code",
   "execution_count": 8,
   "metadata": {},
   "outputs": [
    {
     "name": "stdout",
     "output_type": "stream",
     "text": [
      "is_raining:  True\n",
      "is_sunny:  False\n"
     ]
    }
   ],
   "source": [
    "# Boolean Variables\n",
    "\n",
    "'''\n",
    "Problem: Create two boolean variables `is_raining` and `is_sunny`.\n",
    "        Set `is_raining` to True and `is_sunny` to False. Print both variables.\n",
    "'''\n",
    "is_raining = True\n",
    "is_sunny = False\n",
    "\n",
    "print('is_raining: ', is_raining)\n",
    "print('is_sunny: ', is_sunny)\n"
   ]
  },
  {
   "cell_type": "code",
   "execution_count": 9,
   "metadata": {},
   "outputs": [
    {
     "name": "stdout",
     "output_type": "stream",
     "text": [
      "Before:  0\n",
      "After:  5\n"
     ]
    }
   ],
   "source": [
    "# Variable Scope\n",
    "\n",
    "'''  \n",
    "# Problem: Create a function `update_var` that takes a parameter and updates a global variable `global_var`.\n",
    "# Initialize `global_var` to 0 outside the function and call `update_var` with an argument to change its value.\n",
    "# Print `global_var` before and after the function call.\n",
    "'''\n",
    "\n",
    "global_var = 0\n",
    "def update_var(var):\n",
    "    global global_var # this help to refer to gloabl varaible defined outside the function\n",
    "    global_var = var # updateg value\n",
    "\n",
    "print('Before: ', global_var)\n",
    "update_var(5)\n",
    "print('After: ', global_var)\n"
   ]
  },
  {
   "cell_type": "code",
   "execution_count": 10,
   "metadata": {},
   "outputs": [
    {
     "name": "stdout",
     "output_type": "stream",
     "text": [
      "['apple', 'cherry', 'orange']\n"
     ]
    }
   ],
   "source": [
    "# List as Variables\n",
    "\n",
    "'''  \n",
    "Problem: Create a list variable `fruits` containing 'apple', 'banana', and 'cherry'.\n",
    "        Add 'orange' to the list, remove 'banana', and print the final list.\n",
    "'''\n",
    "\n",
    "fruits = ['apple', 'banana', 'cherry']\n",
    "fruits.append('orange') # adds value to list\n",
    "fruits.remove('banana') # remove value from list \n",
    "print(fruits)"
   ]
  },
  {
   "cell_type": "code",
   "execution_count": 11,
   "metadata": {},
   "outputs": [
    {
     "name": "stdout",
     "output_type": "stream",
     "text": [
      "{'name': 'MohithReddy', 'age': 30, 'city': 'Bangalore'}\n"
     ]
    }
   ],
   "source": [
    "# Dictionary Variables\n",
    "\n",
    "'''  \n",
    "Problem: Create a dictionary variable `person` with keys 'name', 'age', and 'city'.\n",
    "        Assign appropriate values to these keys and print the dictionary.\n",
    "'''\n",
    "\n",
    "person = {'name': 'MohithReddy', 'age': 30, 'city': 'Bangalore'}\n",
    "print(person)"
   ]
  },
  {
   "cell_type": "code",
   "execution_count": 12,
   "metadata": {},
   "outputs": [
    {
     "name": "stdout",
     "output_type": "stream",
     "text": [
      "1\n",
      "2\n",
      "3\n"
     ]
    }
   ],
   "source": [
    "# Unpacking Variables\n",
    "'''  \n",
    "Problem: Given the list `numbers = [1, 2, 3]`, unpack the elements into three separate variables `a`, `b`, and `c`.\n",
    "        Print the values of `a`, `b`, and `c`.\n",
    "'''\n",
    "\n",
    "numbers = [1, 2, 3]\n",
    "\n",
    "a, b, c = numbers # unpack the values\n",
    "\n",
    "print(a)\n",
    "print(b)\n",
    "print(c)"
   ]
  },
  {
   "cell_type": "code",
   "execution_count": 13,
   "metadata": {},
   "outputs": [
    {
     "name": "stdout",
     "output_type": "stream",
     "text": [
      "1\n",
      "2\n",
      "[3, 4, 5, 6, 7]\n",
      "8\n",
      "9\n"
     ]
    }
   ],
   "source": [
    "# Unpacking with Variable-Length Sequences\n",
    "\n",
    "'''  \n",
    "# Problem:\n",
    "# Given a list `values = [1, 2, 3, 4, 5, 6, 7, 8, 9]`, unpack the first two values and the last two values into separate variables.\n",
    "# The middle part of the list should be stored in another list. Print all the unpacked variables.\n",
    "'''\n",
    "\n",
    "# Solution:\n",
    "values = [1, 2, 3, 4, 5, 6, 7, 8, 9]\n",
    "\n",
    "# Unpack the list\n",
    "first, second, *middle, second_last, last = values\n",
    "\n",
    "print(first)        # Should print 1\n",
    "print(second)       # Should print 2\n",
    "print(middle)       # Should print [3, 4, 5, 6, 7]\n",
    "print(second_last)  # Should print 8\n",
    "print(last)         # Should print 9\n"
   ]
  },
  {
   "cell_type": "code",
   "execution_count": 14,
   "metadata": {},
   "outputs": [
    {
     "name": "stdout",
     "output_type": "stream",
     "text": [
      "4 5\n"
     ]
    }
   ],
   "source": [
    "# Unpacking Nested Tuples\n",
    "\n",
    "'''  \n",
    "# Problem:\n",
    "# Given a nested tuple `data = (1, (2, 3, (4, 5)))`, unpack the tuple to access the innermost values 4 and 5.\n",
    "# Print these values separately.\n",
    "'''\n",
    "\n",
    "data = (1, (2, 3, (4, 5)))\n",
    "(_, (_,_,(int1, int2))) = data\n",
    "\n",
    "print(int1, int2)"
   ]
  }
 ],
 "metadata": {
  "kernelspec": {
   "display_name": "Python 3",
   "language": "python",
   "name": "python3"
  },
  "language_info": {
   "codemirror_mode": {
    "name": "ipython",
    "version": 3
   },
   "file_extension": ".py",
   "mimetype": "text/x-python",
   "name": "python",
   "nbconvert_exporter": "python",
   "pygments_lexer": "ipython3",
   "version": "3.9.0"
  }
 },
 "nbformat": 4,
 "nbformat_minor": 2
}
