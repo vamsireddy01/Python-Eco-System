{
 "cells": [
  {
   "cell_type": "markdown",
   "metadata": {},
   "source": [
    "### Reserved words with examples "
   ]
  },
  {
   "cell_type": "markdown",
   "metadata": {},
   "source": [
    "##### List of reserved words\n",
    "\n",
    "False, None, True, and, as, assert, async, await, break, class, continue, def, del, elif, else, except, finally, for, from, global, if, import, in, is, lambda, nonlocal, not, or, pass, raise, return, try, while, with, yield\n"
   ]
  },
  {
   "cell_type": "code",
   "execution_count": 2,
   "metadata": {},
   "outputs": [
    {
     "name": "stdout",
     "output_type": "stream",
     "text": [
      "Into the blocak becaue because condition is true\n",
      "Into the blocak becaue because condition is true, considering non-zero\n"
     ]
    }
   ],
   "source": [
    "# True\n",
    "\n",
    "'''\n",
    "1. It an boolean value \n",
    "2. In python Number one (1) represent True, in that case all non-zero represnt True\n",
    "3. \"T\" should be capital, as python is case sensitive language\n",
    "'''\n",
    "\n",
    "boolean_true = True\n",
    "\n",
    "if boolean_true:\n",
    "    print(\"Into the blocak becaue because condition is true\")\n",
    "\n",
    "non_zero_values = -3\n",
    "if non_zero_values:\n",
    "    print(\"Into the blocak becaue because condition is true, considering non-zero\")"
   ]
  },
  {
   "cell_type": "code",
   "execution_count": 4,
   "metadata": {},
   "outputs": [
    {
     "name": "stdout",
     "output_type": "stream",
     "text": [
      "End\n"
     ]
    }
   ],
   "source": [
    "# False\n",
    "\n",
    "'''\n",
    "1. It an boolean value \n",
    "2. In python Number Zero (0) represent False\n",
    "3. \"F\" should be capital, as python is case sensitive language\n",
    "'''\n",
    "\n",
    "boolean_false = False\n",
    "\n",
    "if boolean_false:\n",
    "    print(\"Into the blocak becaue because condition is true\")\n",
    "\n",
    "zero_values = 0\n",
    "if zero_values:\n",
    "    print(\"Into the blocak becaue because condition is true, considering non-zero\")\n",
    "\n",
    "print(\"End\") # Above print was not printed because condition is False in both the cases"
   ]
  },
  {
   "cell_type": "code",
   "execution_count": 7,
   "metadata": {},
   "outputs": [
    {
     "name": "stdout",
     "output_type": "stream",
     "text": [
      "param value is:  None\n",
      "param value is:  Python\n"
     ]
    }
   ],
   "source": [
    "# None\n",
    "\n",
    "'''  \n",
    "1. \"None\" is a special constant that represents the absence of a value or a null value\n",
    "2. None is of own data type \"NoneType\"\n",
    "'''\n",
    "\n",
    "x = None # represent is x value as None or null value\n",
    "\n",
    "def example(param=None):\n",
    "    if param is None:\n",
    "        print(\"param value is: \", param)\n",
    "    else:\n",
    "        print(\"param value is: \", param)\n",
    "\n",
    "\n",
    "example() # Calling function with defalut parameters\n",
    "example(\"Python\") # calling function with specifc parameter value\n"
   ]
  },
  {
   "cell_type": "code",
   "execution_count": 9,
   "metadata": {},
   "outputs": [
    {
     "name": "stdout",
     "output_type": "stream",
     "text": [
      "Both the varaibles var1 and var3 are True\n"
     ]
    }
   ],
   "source": [
    "# and\n",
    "\n",
    "'''     \n",
    "1. Logical AND if all of the values in given condition is true, Result True\n",
    "'''\n",
    "var1 = True\n",
    "var2 = 0 # zero will be false\n",
    "\n",
    "if var1 and var2:\n",
    "    print(\"Both the varaibles are True\")\n",
    "\n",
    "var3 = 1 # non-zero treated as true\n",
    "if var1 and var3:\n",
    "    print(\"Both the varaibles var1 and var3 are True\")"
   ]
  },
  {
   "cell_type": "code",
   "execution_count": 10,
   "metadata": {},
   "outputs": [
    {
     "name": "stdout",
     "output_type": "stream",
     "text": [
      "Atleast one varaible of var1, var3 are True\n"
     ]
    }
   ],
   "source": [
    "# or\n",
    "\n",
    "'''     \n",
    "1. Logical OR if any of the value in given condition is true, Result True\n",
    "'''\n",
    "var1 = False\n",
    "var2 = 0 # zero will be false\n",
    "\n",
    "if var1 or var2:\n",
    "    print(\"Atleast one varaible is  True\")\n",
    "\n",
    "var3 = 1 # non-zero treated as true\n",
    "if var1 or var3:\n",
    "    print(\"Atleast one varaible of var1, var3 are True\")"
   ]
  },
  {
   "cell_type": "code",
   "execution_count": 12,
   "metadata": {},
   "outputs": [],
   "source": [
    "# as\n",
    "\n",
    "'''\n",
    "1. It represent alias name.\n",
    "2. you can refer to alias name with in name to write a statement.\n",
    "3. It is just for simplicity nothing else.\n",
    "'''\n",
    "\n",
    "import pandas as pd\n",
    "df = pd.DataFrame() # pd is alias name we use here"
   ]
  },
  {
   "cell_type": "code",
   "execution_count": 16,
   "metadata": {},
   "outputs": [
    {
     "ename": "AssertionError",
     "evalue": "Value must be positive",
     "output_type": "error",
     "traceback": [
      "\u001b[1;31m---------------------------------------------------------------------------\u001b[0m",
      "\u001b[1;31mAssertionError\u001b[0m                            Traceback (most recent call last)",
      "Cell \u001b[1;32mIn[16], line 13\u001b[0m\n\u001b[0;32m      9\u001b[0m value \u001b[38;5;241m=\u001b[39m \u001b[38;5;241m1\u001b[39m\n\u001b[0;32m     11\u001b[0m \u001b[38;5;28;01massert\u001b[39;00m value \u001b[38;5;241m==\u001b[39m \u001b[38;5;241m1\u001b[39m \u001b[38;5;66;03m# It excuted without error as condition is true\u001b[39;00m\n\u001b[1;32m---> 13\u001b[0m \u001b[38;5;28;01massert\u001b[39;00m value \u001b[38;5;241m<\u001b[39m \u001b[38;5;241m0\u001b[39m, \u001b[38;5;124m\"\u001b[39m\u001b[38;5;124mValue must be positive\u001b[39m\u001b[38;5;124m\"\u001b[39m \u001b[38;5;66;03m# it raises an error\u001b[39;00m\n",
      "\u001b[1;31mAssertionError\u001b[0m: Value must be positive"
     ]
    }
   ],
   "source": [
    "# assert\n",
    "\n",
    "'''     \n",
    "1. The assert statement in Python is used as a debugging aid that tests a condition.\n",
    "2. If the condition is true, the program continues to execute.\n",
    "3. If the condition is false, an AssertionError is raised, which can include an optional error message\n",
    "'''\n",
    "\n",
    "value = 1\n",
    "\n",
    "assert value == 1 # It excuted without error as condition is true\n",
    "\n",
    "assert value < 0, \"Value must be positive\" # it raises an error\n"
   ]
  },
  {
   "cell_type": "code",
   "execution_count": 22,
   "metadata": {},
   "outputs": [
    {
     "name": "stdout",
     "output_type": "stream",
     "text": [
      "Task 1 Start fetching data...\n",
      "Task 2 Start fetching data...\n",
      "Task 3 Start fetching data...\n",
      "Task 3 Data fetched\n",
      "Task 1 Data fetched\n",
      "Task 2 Data fetched\n",
      "Results: ['Task 1 Data', 'Task 2 Data', 'Task 3 Data']\n"
     ]
    }
   ],
   "source": [
    "# async \n",
    "# await\n",
    "\n",
    "'''\n",
    "1. async keyword: Used to define an asynchronous function, which is a function that runs asynchronously\n",
    "2. await keyword: Used to pause the execution of an async function until the result of an awaited coroutine or task is available.\n",
    "3. It is part of the asyncio module introduced in Python 3.5\n",
    "'''\n",
    "\n",
    "import asyncio\n",
    "\n",
    "async def fetch_data(delay, name): # defining async function\n",
    "    print(f\"{name} Start fetching data...\")\n",
    "    await asyncio.sleep(delay)\n",
    "    print(f\"{name} Data fetched\")\n",
    "    return f\"{name} Data\"\n",
    "\n",
    "async def main(): # main function which call fetch_data 3 times\n",
    "    task1 = fetch_data(2, \"Task 1\") # calling function with 2 seconds sleep time\n",
    "    task2 = fetch_data(3, \"Task 2\") # calling function with 3 seconds sleep time\n",
    "    task3 = fetch_data(1, \"Task 3\") # calling function with 1 seconds sleep time\n",
    "    '''Considering above sleep time,  task3 will be finished first followd by task1'''\n",
    "    \n",
    "    results = await asyncio.gather(task1, task2, task3)\n",
    "    print(f\"Results: {results}\")\n",
    "\n",
    "# Running the main function\n",
    "await main()"
   ]
  },
  {
   "cell_type": "code",
   "execution_count": 24,
   "metadata": {},
   "outputs": [
    {
     "name": "stdout",
     "output_type": "stream",
     "text": [
      "0\n",
      "1\n",
      "2\n",
      "3\n",
      "4\n"
     ]
    }
   ],
   "source": [
    "# break\n",
    "\n",
    "'''\n",
    "1. Breaks out of the loop\n",
    "'''\n",
    "for i in range(10):\n",
    "    if i == 5: # when condidtion true we are breaking out of loop so 5, 6, 7, ... are not printed\n",
    "        break\n",
    "    print(i)  # 0 1 2 3 4\n"
   ]
  },
  {
   "cell_type": "code",
   "execution_count": 26,
   "metadata": {},
   "outputs": [
    {
     "name": "stdout",
     "output_type": "stream",
     "text": [
      "Fido\n",
      "Woof!\n"
     ]
    }
   ],
   "source": [
    "# class\n",
    "\n",
    "'''     \n",
    "1. Used to create a class\n",
    "'''\n",
    "class Dog: # class name DOg\n",
    "    def __init__(self, name): # constructor\n",
    "        self.name = name\n",
    "\n",
    "    def bark(self): # calss method\n",
    "        return \"Woof!\"\n",
    "\n",
    "dog = Dog(\"Fido\")\n",
    "print(dog.name) \n",
    "print(dog.bark()) \n"
   ]
  },
  {
   "cell_type": "code",
   "execution_count": 28,
   "metadata": {},
   "outputs": [
    {
     "name": "stdout",
     "output_type": "stream",
     "text": [
      "1\n",
      "3\n",
      "5\n",
      "7\n",
      "9\n"
     ]
    }
   ],
   "source": [
    "# continue\n",
    "\n",
    "'''      \n",
    "1. It help to skip the follwing/below statemetns when condition is true\n",
    "'''\n",
    "\n",
    "for i in range(10):\n",
    "    if i % 2 == 0: # when condition true we say continue, so \"print\" statemetn below it is skipped\n",
    "        continue # even number are not printed in result because of continue\n",
    "    print(i)\n"
   ]
  },
  {
   "cell_type": "code",
   "execution_count": 29,
   "metadata": {},
   "outputs": [
    {
     "name": "stdout",
     "output_type": "stream",
     "text": [
      "Hello, Alice!\n"
     ]
    }
   ],
   "source": [
    "# def\n",
    "\n",
    "'''      \n",
    "1. it is used to define a function.\n",
    "2. following is the basic syntax\n",
    "'''\n",
    "\n",
    "def greet(name):\n",
    "    return f\"Hello, {name}!\"\n",
    "\n",
    "print(greet(\"Alice\"))\n"
   ]
  },
  {
   "cell_type": "code",
   "execution_count": 33,
   "metadata": {},
   "outputs": [
    {
     "name": "stdout",
     "output_type": "stream",
     "text": [
      "[11, 13, 17]\n"
     ]
    }
   ],
   "source": [
    "# del\n",
    "\n",
    "'''\n",
    "1. delete the specific value.\n",
    "2. The del statement in Python removes the reference to a variable, but it does not necessarily free the memory immediately\n",
    "'''\n",
    "my_list = [11,13,16,17]\n",
    "del my_list[2] # deleting item at 2nd index which is 16\n",
    "print(my_list) \n"
   ]
  },
  {
   "cell_type": "code",
   "execution_count": 35,
   "metadata": {},
   "outputs": [
    {
     "name": "stdout",
     "output_type": "stream",
     "text": [
      "Equals 10\n"
     ]
    }
   ],
   "source": [
    "# elif\n",
    "# else\n",
    "\n",
    "'''\n",
    "1. elif is an followed by condition to check in case 'if' is false.\n",
    "2. you can use any number of elif, only followed by 'if' at the start.\n",
    "3. else is final block where all the given above conditions are false, this else block is excuted\n",
    "4. synntax --> start with 'if', add 'elif' , end with 'else'\n",
    "5. else is not mandatory to use\n",
    "'''\n",
    "\n",
    "x = 10\n",
    "if x < 5:\n",
    "    print(\"Less than 5\")\n",
    "elif x == 10:\n",
    "    print(\"Equals 10\")\n",
    "else:\n",
    "    print(\"Greater than 5\")\n"
   ]
  },
  {
   "cell_type": "code",
   "execution_count": 36,
   "metadata": {},
   "outputs": [
    {
     "name": "stdout",
     "output_type": "stream",
     "text": [
      "Cannot divide by zero\n",
      "This will always execute\n"
     ]
    }
   ],
   "source": [
    "# try\n",
    "# except\n",
    "# finally\n",
    "\n",
    "'''\n",
    "1. try excute to block if exception occurs, except block is excuted.\n",
    "2. finally block is always excuted weather you get exception or not.\n",
    "'''\n",
    "try:\n",
    "    result = 10 / 0\n",
    "except ZeroDivisionError:\n",
    "    print(\"Cannot divide by zero\")\n",
    "finally:\n",
    "    print(\"This will always execute\") \n"
   ]
  },
  {
   "cell_type": "code",
   "execution_count": 37,
   "metadata": {},
   "outputs": [
    {
     "name": "stdout",
     "output_type": "stream",
     "text": [
      "0\n",
      "1\n",
      "2\n"
     ]
    }
   ],
   "source": [
    "# for\n",
    "\n",
    "'''\n",
    "1. Help to itterate on sequence data types like list, dict, tuple.\n",
    "'''\n",
    "for i in range(3):\n",
    "    print(i)  \n"
   ]
  },
  {
   "cell_type": "code",
   "execution_count": 38,
   "metadata": {},
   "outputs": [
    {
     "name": "stdout",
     "output_type": "stream",
     "text": [
      "3.141592653589793\n"
     ]
    }
   ],
   "source": [
    "# from\n",
    "\n",
    "'''\n",
    "1. The from keyword is used in import statements to bring specific modules, functions, or classes into the current namespace.\n",
    "'''\n",
    "\n",
    "from math import pi\n",
    "\n",
    "print(pi)\n"
   ]
  },
  {
   "cell_type": "code",
   "execution_count": 44,
   "metadata": {},
   "outputs": [
    {
     "name": "stdout",
     "output_type": "stream",
     "text": [
      "set local: 5\n",
      "set global: 10\n"
     ]
    }
   ],
   "source": [
    "# global\n",
    "\n",
    "'''\n",
    "1. As all the variables as scope, global help to increase the scope and make it available in entire module\n",
    "'''\n",
    "x = 5\n",
    "\n",
    "def set_local():\n",
    "    x = 10  # updating x, But it will not reflect the value globally\n",
    "\n",
    "def set_global():\n",
    "    global x # we are refering to global x which is outside scope of this function\n",
    "    x = 10  # updating x, so it reflect the value globally\n",
    "\n",
    "set_local()\n",
    "print(\"set local:\", x)\n",
    "\n",
    "set_global()\n",
    "print(\"set global:\", x)\n"
   ]
  },
  {
   "cell_type": "code",
   "execution_count": 47,
   "metadata": {},
   "outputs": [
    {
     "name": "stdout",
     "output_type": "stream",
     "text": [
      "True\n"
     ]
    }
   ],
   "source": [
    "# in \n",
    "\n",
    "'''\n",
    "1. It help to check if given value is present in the sequence object.\n",
    "2. If present return True, else False\n",
    "'''\n",
    "my_list = [1, 2, 3, 4]\n",
    "print(3 in my_list)\n"
   ]
  },
  {
   "cell_type": "code",
   "execution_count": 51,
   "metadata": {},
   "outputs": [
    {
     "name": "stdout",
     "output_type": "stream",
     "text": [
      "True\n",
      "False\n"
     ]
    }
   ],
   "source": [
    "# is\n",
    "\n",
    "'''\n",
    "1. It help to identify if both the varaible are same.\n",
    "2. IT check are they point to same memory block\n",
    "'''\n",
    "\n",
    "a = [1, 2, 3]\n",
    "c = [1, 2, 3]\n",
    "b = a\n",
    "print(a is b) # pointed to same memory\n",
    "print(a is c) # though values are same, it is pointing out to different memory\n"
   ]
  },
  {
   "cell_type": "code",
   "execution_count": 54,
   "metadata": {},
   "outputs": [
    {
     "name": "stdout",
     "output_type": "stream",
     "text": [
      "22\n"
     ]
    }
   ],
   "source": [
    "# lambda\n",
    "\n",
    "'''1. it is single line function, you can build an complex equation/vector that return final value of it\n",
    "2. it takes any number of arguments but only one equation.'''\n",
    "\n",
    "square = lambda x, y: x * x + y\n",
    "print(square(4,6))"
   ]
  },
  {
   "cell_type": "code",
   "execution_count": 55,
   "metadata": {},
   "outputs": [
    {
     "name": "stdout",
     "output_type": "stream",
     "text": [
      "False\n"
     ]
    }
   ],
   "source": [
    "# not\n",
    "\n",
    "'''\n",
    "1. It return opposite value of your condition output.\n",
    "'''\n",
    "x = True\n",
    "print(not x)  # False\n"
   ]
  },
  {
   "cell_type": "code",
   "execution_count": 57,
   "metadata": {},
   "outputs": [],
   "source": [
    "# pass\n",
    "\n",
    "'''1. it help when you want to do anything, but wnat to define\n",
    "2. it help to build a skeleton before development.\n",
    "'''\n",
    "\n",
    "def do_nothing():\n",
    "    pass\n",
    "\n",
    "do_nothing()  # No output\n"
   ]
  },
  {
   "cell_type": "code",
   "execution_count": 58,
   "metadata": {},
   "outputs": [
    {
     "name": "stdout",
     "output_type": "stream",
     "text": [
      "7\n"
     ]
    }
   ],
   "source": [
    "# return\n",
    "\n",
    "'''1. when you define an function, the output of function is returned by using \"return\"'''\n",
    "def add(a, b):\n",
    "    return a + b\n",
    "\n",
    "print(add(3, 4))  # 7\n"
   ]
  },
  {
   "cell_type": "code",
   "execution_count": 59,
   "metadata": {},
   "outputs": [
    {
     "name": "stdout",
     "output_type": "stream",
     "text": [
      "0\n",
      "1\n",
      "2\n"
     ]
    }
   ],
   "source": [
    "# while\n",
    "\n",
    "i = 0\n",
    "while i < 3:\n",
    "    print(i)  # 0 1 2\n",
    "    i += 1\n"
   ]
  },
  {
   "cell_type": "code",
   "execution_count": 60,
   "metadata": {},
   "outputs": [],
   "source": [
    "# with\n",
    "\n",
    "with open('test.txt', 'w') as f:\n",
    "    f.write('Hello, world!')\n"
   ]
  },
  {
   "cell_type": "code",
   "execution_count": 61,
   "metadata": {},
   "outputs": [
    {
     "name": "stdout",
     "output_type": "stream",
     "text": [
      "1\n",
      "2\n",
      "3\n"
     ]
    }
   ],
   "source": [
    "# yield\n",
    "\n",
    "def generator():\n",
    "    yield 1\n",
    "    yield 2\n",
    "    yield 3\n",
    "\n",
    "for value in generator():\n",
    "    print(value)\n"
   ]
  },
  {
   "cell_type": "code",
   "execution_count": null,
   "metadata": {},
   "outputs": [],
   "source": []
  }
 ],
 "metadata": {
  "kernelspec": {
   "display_name": "Python 3",
   "language": "python",
   "name": "python3"
  },
  "language_info": {
   "codemirror_mode": {
    "name": "ipython",
    "version": 3
   },
   "file_extension": ".py",
   "mimetype": "text/x-python",
   "name": "python",
   "nbconvert_exporter": "python",
   "pygments_lexer": "ipython3",
   "version": "3.9.0"
  }
 },
 "nbformat": 4,
 "nbformat_minor": 2
}
